{
 "cells": [
  {
   "cell_type": "markdown",
   "metadata": {},
   "source": [
    "## GEO371T/GEO391 - Introduction to Machine Learning for Geosciences\n",
    "### Basic Introduction to Python\n",
    "#### What should you take from this workflow?\n",
    "* Become familiar with how to code in Python and work within a Jupyter Notebook\n",
    "* Get familiar with variable types, arrays, if/else statements, for loops, and functions\n",
    "* Understand how to read and write data\n",
    "* Understand how to plot data\n",
    "\n",
    "__Why Python?__\n",
    "\n",
    "Intuitive, fast for prototyping, portable to different os, many well-developed libraries, can 'wrap' lower level languages. **It is THE language of machine learning.**\n",
    "\n",
    "Advantages\n",
    "\n",
    "* Interpreted Language (no compiler, platform independent)\n",
    "* Dynamically typed (type declaration)\n",
    "* High level (no mallocs, garbage collection)\n",
    "\n",
    "Disadvantages\n",
    "\n",
    "* Interpreted Language (slower than compiled languages like c, c++, fortran)\n",
    "* Dynamically typed (static type declaration reduces risk, gives more memory control e.g. Python has no unsigned int type)\n",
    "* High level (no mallocs, many details abstracted)\n",
    "\n",
    "**For highest performance, use c, c++, or Fortran, CUDA (GPU) with parallel computing libraries (MPI, OpenMP).**\n",
    "**For most scientific (idea testing) and machine learning applications, Python is the choice.**"
   ]
  },
  {
   "cell_type": "markdown",
   "metadata": {},
   "source": [
    "------------------------------------------------------------------------------------"
   ]
  },
  {
   "cell_type": "markdown",
   "metadata": {},
   "source": [
    "__What is a Jupyter Notebook?__\n",
    "\n",
    "A Jupyter Notebook is a collection of 'cells' that hold and run python (other languages are available) code. \n",
    "\n",
    "The main benefit of Jupyter notebooks is that they allow you to test ideas and code in isolated cells. This fits naturally into scientific workflows where we want to test different ideas given e.g. a fixed dataset. It also allows you to test different parts of your code in isolation to make sure it works as expected. Finally, Markdown cells allow you to explain your code in human-favorable formatting to more effectively communicate with colleagues.\n",
    "\n",
    "More information is available on the Project Jupyter website https://jupyter.org\n",
    "\n",
    "__How do Jupyter Notebooks Work?__\n",
    "\n",
    "As mentioned above, Jupyter notebooks are organized into cells. There are two main types of cells, *Code* cells, and *Markdown* cells. Code cells contain code which can be executed by clicking the *Run* button (keyboard shortcut shift+enter). Markdown cells contain text which can be formatted (like this cell)\n",
    "\n",
    "You can add more cell blocks by clicking on the __+__ button or clicking on insert, cell above (keyboard shortcut A) or cell below (keyboard shortcut B). You can delete a cell by highlighting it and pressing D twice. Finally you can change the cell type by selecting it from the dropdown menu to the left of the command pallete (keyboard) icon.\n",
    "\n",
    "Code cells are interpreted by the Python *kernel*. What the kernel does in detail is not important; on the user end, it takes your Python code, interprets it, and returns the result of your code (which may include print outputs, graphics, etc.) to the notebook. \n",
    "\n",
    "\n",
    "Jupyter Notebook persists executed cells in memory. This means that when you execute a code cell, any variables you assign will persist until you restart the kernel. The benefits of this are that you can isolate sections of code for testing. The downside is that it is easy to create namespace conflicts between cells, creating bugs in your code. Another thing to keep in mind is that if your current cell has a dependency on a previous cell, you will have to run that previous cell before running the current cell.\n",
    "\n",
    "**Now let's write our first Jupyter Notebook cell block code, and learn how to code in Python**"
   ]
  },
  {
   "cell_type": "markdown",
   "metadata": {},
   "source": [
    "---------------------------------------"
   ]
  },
  {
   "cell_type": "markdown",
   "metadata": {},
   "source": [
    "# Variables, strings, and printing"
   ]
  },
  {
   "cell_type": "markdown",
   "metadata": {},
   "source": [
    "The first program to write in any language is 'Hello World'. This illustrates the basic syntax of the language"
   ]
  },
  {
   "cell_type": "code",
   "execution_count": 1,
   "metadata": {},
   "outputs": [
    {
     "name": "stdout",
     "output_type": "stream",
     "text": [
      "Hello World\n",
      "Hello World\n"
     ]
    }
   ],
   "source": [
    "print('Hello World')\n",
    "\n",
    "# Which is the same as...\n",
    "hello_world_string = 'Hello World'\n",
    "\n",
    "print(hello_world_string)"
   ]
  },
  {
   "cell_type": "markdown",
   "metadata": {},
   "source": [
    "Here we just printed a string, a data type delimited by '', \"\", or ''' ''' (for multiline strings)\n",
    "\n",
    "We can assign strings to variables as demonstrated above. We assigned the string `'Hello World'` to the variable `hello_world_string`.\n",
    "\n",
    "Finally we use *#* to add comments to the code. Comments tell the reader the intent of your code in plain language; they are ignored by the python interpreter. You should use comments frequently in your code.\n",
    "\n",
    "#### Now let's get into some variable/data types"
   ]
  },
  {
   "cell_type": "code",
   "execution_count": 2,
   "metadata": {},
   "outputs": [
    {
     "name": "stdout",
     "output_type": "stream",
     "text": [
      "Variable Assignment\n",
      "Variable a0_var assigned value: 3\n",
      "Variable A0_var assigned value: 4\n",
      "Numbers\n"
     ]
    }
   ],
   "source": [
    "print(\"Variable Assignment\")\n",
    "\n",
    "a0_var = 3\n",
    "A0_var = 4\n",
    "print('Variable a0_var assigned value:', a0_var)\n",
    "print('Variable A0_var assigned value:', A0_var)\n",
    "\n",
    "print(\"Numbers\")"
   ]
  },
  {
   "cell_type": "markdown",
   "metadata": {},
   "source": [
    "Note in the above example that variable declaration is case sensitive"
   ]
  },
  {
   "cell_type": "markdown",
   "metadata": {},
   "source": [
    "#### Numeric Datatypes: Integers and Floats"
   ]
  },
  {
   "cell_type": "code",
   "execution_count": 3,
   "metadata": {},
   "outputs": [
    {
     "name": "stdout",
     "output_type": "stream",
     "text": [
      "The type of x is: <class 'int'>\n",
      "The type of x is: <class 'float'>\n"
     ]
    }
   ],
   "source": [
    "x = 2\n",
    "print('The type of x is:', type(x))\n",
    "\n",
    "y = 2.5\n",
    "print('The type of x is:', type(y))"
   ]
  },
  {
   "cell_type": "markdown",
   "metadata": {},
   "source": [
    "#### Arithmetic Operations"
   ]
  },
  {
   "cell_type": "code",
   "execution_count": 4,
   "metadata": {},
   "outputs": [
    {
     "name": "stdout",
     "output_type": "stream",
     "text": [
      "x+3 is 5\n",
      "x-15 is -13\n",
      "x*2 is 4\n",
      "x/2 is 1.0\n",
      "x//2 (floor division) is 1\n",
      "x mod 2 (remainder) is 0\n",
      "x cubed is 8\n",
      "x = x+1 is 3\n",
      "2*(x+1) is, 6\n"
     ]
    }
   ],
   "source": [
    "#Addition, subtraction, multiplication, exponentiation\n",
    "print('x+3 is', x + 3)\n",
    "print('x-15 is', x - 15)\n",
    "print('x*2 is',x * 2)\n",
    "print('x/2 is', x/2)\n",
    "print('x//2 (floor division) is', x//2)\n",
    "print('x mod 2 (remainder) is', x%2)\n",
    "print('x cubed is', x ** 3) #Note ** is used for exponentiation, not ^\n",
    "x += 1 #This is a shorthand for x = x+1\n",
    "print('x = x+1 is', x)\n",
    "x *= 2 #This is a shorthand for x = x*2\n",
    "print('2*(x+1) is,',x)"
   ]
  },
  {
   "cell_type": "markdown",
   "metadata": {},
   "source": [
    "#### Type conversions\n",
    "\n",
    "Remember that we created two variables x and y which have types `float` and `int` respectively. To do arithmetic operations between types, the `int` type is converted to a `float` to make the computation compatible."
   ]
  },
  {
   "cell_type": "code",
   "execution_count": 5,
   "metadata": {},
   "outputs": [
    {
     "name": "stdout",
     "output_type": "stream",
     "text": [
      "C has the value:  8.5  and the type:  <class 'float'>\n",
      "D has the value:  15.0  and the type:  <class 'float'>\n"
     ]
    }
   ],
   "source": [
    "c = x + y\n",
    "print('C has the value: ', c, ' and the type: ', type(c)) \n",
    "d = x * y\n",
    "print('D has the value: ', d, ' and the type: ', type(d))"
   ]
  },
  {
   "cell_type": "markdown",
   "metadata": {},
   "source": [
    "#### Booleans\n",
    "\n",
    "A Boolean is a binary variable, taking on the value of either `True` or `False`. They are useful e.g. in testing a condition in your code and modifying the output of the code if the condition is `True` or `False`. More on that to come."
   ]
  },
  {
   "cell_type": "code",
   "execution_count": 6,
   "metadata": {},
   "outputs": [
    {
     "name": "stdout",
     "output_type": "stream",
     "text": [
      "Booleans\n",
      "<class 'bool'>\n"
     ]
    }
   ],
   "source": [
    "print(\"Booleans\")\n",
    "# Logic based using True and False given AND (i.e., && symbol in Python) OR (i.e., || symbol in Python)\n",
    "\n",
    "t = True\n",
    "f = False\n",
    "print(type(t))"
   ]
  },
  {
   "cell_type": "markdown",
   "metadata": {},
   "source": [
    "#### Boolean operations\n",
    "\n",
    "Booleans have associated operators to qualify conditions. They evaluate to Booleans."
   ]
  },
  {
   "cell_type": "code",
   "execution_count": 7,
   "metadata": {},
   "outputs": [
    {
     "name": "stdout",
     "output_type": "stream",
     "text": [
      "True and False: False\n",
      "True or False: True\n",
      "Not True: False\n",
      "True not equivalent to False: True\n",
      "False equivalent to False: True\n"
     ]
    }
   ],
   "source": [
    "print('True and False:', t and f) #False\n",
    "print('True or False:', t or f) #True\n",
    "print('Not True:', not t) #False\n",
    "print('True not equivalent to False:', t != f) #True\n",
    "print('False equivalent to False:', f==f) #True"
   ]
  },
  {
   "cell_type": "markdown",
   "metadata": {},
   "source": [
    "## Arrays\n",
    "\n",
    "Arrays are *ordered* collections of values (ints, floats, strings) typically all of the same type (though not necessarily) which are very useful for scientific computations. For example, arrays can be used to store time series data, or multidimensional data such as the space-time values of displacement of a seismic wavefield.\n",
    "\n",
    "Arrays have associated indices which refer to each *ordered* element.\n",
    "\n",
    "* Note that in Python, indexing starts at 0, not 1\n",
    "\n",
    "__We will now load in our first library, *NumPy* which is used when dealing with arrays in Python__"
   ]
  },
  {
   "cell_type": "code",
   "execution_count": 8,
   "metadata": {},
   "outputs": [
    {
     "name": "stdout",
     "output_type": "stream",
     "text": [
      "[ 0  1  2  3  4  5  6  7  8  9 10]\n",
      "Length of x_array is: 11\n"
     ]
    }
   ],
   "source": [
    "\n",
    "\n",
    "import numpy as np  # n-dimensional arrys\n",
    "\n",
    "x_array = np.arange(0, 11, 1)\n",
    "# We have just created an array of integers from [0 to 11) (the value 11 is excluded).  \n",
    "#The 3rd argument of np.arange() is the spacing between each value, set to 1 here.\n",
    "print(x_array)\n",
    "print('Length of x_array is: {}'.format(len(x_array)))"
   ]
  },
  {
   "cell_type": "markdown",
   "metadata": {},
   "source": [
    "#### Array indexing\n",
    "\n",
    "We can use the indices to retrieve specific elements of the array"
   ]
  },
  {
   "cell_type": "code",
   "execution_count": 9,
   "metadata": {},
   "outputs": [
    {
     "name": "stdout",
     "output_type": "stream",
     "text": [
      "The element at index 3 is 3\n",
      "The last element is 10\n",
      "Elements 3 to 5 are [3 4]\n",
      "Every element is [ 0  1  2  3  4  5  6  7  8  9 10]\n"
     ]
    }
   ],
   "source": [
    "# If we wanted to grab the value found within the 3rd index (again, indexing starts at zero), we do the following\n",
    "x_array_3rd_idx = x_array[3]\n",
    "print('The element at index 3 is', x_array_3rd_idx)\n",
    "\n",
    "#Negative indexing: We can also start at the end.\n",
    "print('The last element is', x_array[-1])\n",
    "\n",
    "#Slicing: Get several elements\n",
    "print('Elements 3 to 5 are', x_array[3:5])\n",
    "\n",
    "#Get every element (particularly useful in higher dimensions)\n",
    "print('Every element is', x_array[:])\n"
   ]
  },
  {
   "cell_type": "markdown",
   "metadata": {},
   "source": [
    "#### Insertion\n",
    "\n",
    "Sometimes we want to manipulate values at a praticular location"
   ]
  },
  {
   "cell_type": "code",
   "execution_count": 10,
   "metadata": {},
   "outputs": [
    {
     "name": "stdout",
     "output_type": "stream",
     "text": [
      "The array is now:  [ 0  1  2 11  4  5  6  7  8  9 10]\n"
     ]
    }
   ],
   "source": [
    "#Change the third element to 11\n",
    "\n",
    "x_array[3] = 11\n",
    "print('The array is now: ', x_array)"
   ]
  },
  {
   "cell_type": "code",
   "execution_count": 11,
   "metadata": {},
   "outputs": [
    {
     "name": "stdout",
     "output_type": "stream",
     "text": [
      "Original matrix \n",
      "[[1 2 3]\n",
      " [4 5 6]]\n",
      "Row at 0th index\n",
      "[1 2 3]\n",
      "Column at 1st index\n",
      "[2 5]\n",
      "Column at 2nd index\n",
      "[3 6]\n"
     ]
    }
   ],
   "source": [
    "import numpy as np \n",
    "  \n",
    "# creating a numpy integer array \n",
    "mat1 = np.array([[1, 2, 3], [4, 5, 6]]) \n",
    "  \n",
    "print(\"Original matrix \") \n",
    "print(mat1) \n",
    "  \n",
    "print(\"Row at 0th index\") \n",
    "print(mat1[0]) \n",
    "  \n",
    "# 1st columns \n",
    "print(\"Column at 1st index\") \n",
    "print(mat1[:, 1]) \n",
    "  \n",
    "# computing length of array \n",
    "print(\"Column at 2nd index\") \n",
    "print(mat1[:, 2])"
   ]
  },
  {
   "cell_type": "markdown",
   "metadata": {},
   "source": [
    "#### Multi-dimensional Arrays and Indexing\n",
    "\n",
    "Often we deal with data that are high dimensional. Numpy support N-dimensional arrays."
   ]
  },
  {
   "cell_type": "code",
   "execution_count": 12,
   "metadata": {
    "scrolled": true
   },
   "outputs": [
    {
     "name": "stdout",
     "output_type": "stream",
     "text": [
      "The array is: \n",
      " [[0. 0. 0. ... 0. 0. 0.]\n",
      " [0. 0. 0. ... 0. 0. 0.]\n",
      " [0. 0. 0. ... 0. 0. 0.]\n",
      " ...\n",
      " [0. 0. 0. ... 0. 0. 0.]\n",
      " [0. 0. 0. ... 0. 0. 0.]\n",
      " [0. 0. 0. ... 0. 0. 0.]] \n",
      "\n",
      "Element [0, 1] is  1.0 \n",
      "\n",
      "The first row is: [0. 0. 0. 0. 0. 0. 0. 0. 0. 0. 0. 0. 0. 0. 0. 0. 0. 0. 0. 0. 0. 0. 0. 0.\n",
      " 0. 0. 0. 0. 0. 0. 0. 0. 0. 0. 0. 0. 0. 0. 0. 0. 0. 0. 0. 0. 0. 0. 0. 0.\n",
      " 0. 0. 0. 0. 0. 0. 0. 0. 0. 0. 0. 0. 0. 0. 0. 0. 0. 0. 0. 0. 0. 0. 0. 0.\n",
      " 0. 0. 0. 0. 0. 0. 0. 0. 0. 0. 0. 0. 0. 0. 0. 0. 0. 0. 0. 0. 0. 0. 0. 0.\n",
      " 0. 0. 0. 0.] \n",
      "\n"
     ]
    }
   ],
   "source": [
    "x_fill_array = np.zeros((100, 100))\n",
    "# Here I have just created a 2D matrix of shape 100 x 100 full of zeros... np.ones((100, 100)) does the same, but\n",
    "# fills the matrix full of ones.\n",
    "print('The array is: \\n', x_fill_array, '\\n')\n",
    "\n",
    "#2D array insertion\n",
    "x_fill_array[0,1] = 1\n",
    "\n",
    "#Array indexing\n",
    "print('Element [0, 1] is ', x_fill_array[0, 1], '\\n')\n",
    "\n",
    "#Get every element of the first row\n",
    "print('The first row is:', x_fill_array[:,0], '\\n')\n"
   ]
  },
  {
   "cell_type": "markdown",
   "metadata": {},
   "source": [
    "#### Creating other types of arrays"
   ]
  },
  {
   "cell_type": "code",
   "execution_count": 13,
   "metadata": {},
   "outputs": [
    {
     "name": "stdout",
     "output_type": "stream",
     "text": [
      "Our manually created array is:  [ 4.  1.  0.  0. 22.]\n",
      "\n",
      "The array, converted to integer type is [ 4  1  0  0 22]\n",
      "\n",
      "2 x 2 array with 7s \n",
      " [[7 7]\n",
      " [7 7]]\n",
      "\n",
      "Identity Array \n",
      " [[1. 0.]\n",
      " [0. 1.]]\n",
      "\n",
      "Random Array: \n",
      " [[0.36360905 0.85255383]\n",
      " [0.10245125 0.64922588]]\n",
      "\n"
     ]
    }
   ],
   "source": [
    "# Now we can make our own array manually...\n",
    "x1 = 4\n",
    "x2 = 1\n",
    "x3 = x_array[0]\n",
    "x4 = x_fill_array[41, 97]\n",
    "x5 = 22\n",
    "manual_array = np.array([x1, x2, x3, x4, x5])\n",
    "print('Our manually created array is: ', manual_array)\n",
    "#Note that to create our array we used brackets ([]). What these brackets mean will be explained later.\n",
    "print()\n",
    "\n",
    "# You can add an extra parameter to specify what type of number you want. So let's make them integers\n",
    "manual_array_int = np.array(manual_array, dtype=int)\n",
    "print('The array, converted to integer type is', manual_array_int)\n",
    "print()\n",
    "\n",
    "# If you want to create a 2x2 array filled with 7's in each component, you do the following\n",
    "c = np.full((2, 2), 7)\n",
    "print('2 x 2 array with 7s \\n', c)\n",
    "print()\n",
    "\n",
    "\n",
    "# If you want to create a 2x2 identity array filled, you do the following\n",
    "d = np.eye(2)\n",
    "print('Identity Array \\n', d)\n",
    "print()\n",
    "\n",
    "# If you want to create a 2x2 array filled with random values in each component, you do the following\n",
    "e = np.random.random((2, 2))\n",
    "print('Random Array: \\n', e)\n",
    "print()"
   ]
  },
  {
   "cell_type": "markdown",
   "metadata": {},
   "source": [
    "##### Note that arrays *are not* matrices. They do not obey the rules of matrix multiplication for example. You can often use arrays like matrices however using NumPy's linear algebra functions. "
   ]
  },
  {
   "cell_type": "markdown",
   "metadata": {},
   "source": [
    "### Array arithmetic\n",
    "\n",
    "By default array math operates elementwise. In other words, all base arithmetic operations preserve the shape of the array, unlike matrix multiplication, dot products, etc."
   ]
  },
  {
   "cell_type": "code",
   "execution_count": 14,
   "metadata": {},
   "outputs": [
    {
     "name": "stdout",
     "output_type": "stream",
     "text": [
      "\n",
      "##########################################################\n",
      "\n",
      "Elementwise sum; both produce the same array\n",
      "[[ 6.  8.]\n",
      " [10. 12.]]\n",
      "[[ 6.  8.]\n",
      " [10. 12.]]\n",
      "\n",
      "##########################################################\n",
      "\n",
      "Elementwise difference; both produce the same array\n",
      "[[-4. -4.]\n",
      " [-4. -4.]]\n",
      "[[-4. -4.]\n",
      " [-4. -4.]]\n",
      "\n",
      "##########################################################\n",
      "\n",
      "Elementwise product; both produce the same array\n",
      "[[ 5. 12.]\n",
      " [21. 32.]]\n",
      "[[ 5. 12.]\n",
      " [21. 32.]]\n",
      "\n",
      "##########################################################\n",
      "\n",
      "Elementwise division; both produce the same array\n",
      "[[0.2        0.33333333]\n",
      " [0.42857143 0.5       ]]\n",
      "[[0.2        0.33333333]\n",
      " [0.42857143 0.5       ]]\n",
      "Floor division (Divide and round down to nearest integer)\n",
      "[[0. 0.]\n",
      " [0. 0.]]\n",
      "\n",
      "##########################################################\n",
      "\n",
      "Elementwise square root; produces the same array\n",
      "[[1.         1.41421356]\n",
      " [1.73205081 2.        ]]\n",
      "\n",
      "##########################################################\n",
      "\n",
      "Inner product of vectors\n",
      "219\n",
      "219\n",
      "\n",
      "##########################################################\n",
      "\n",
      "Matrix-vector product; both produce the same 1 dimensional array\n",
      "[29 67]\n",
      "[29 67]\n",
      "\n",
      "##########################################################\n",
      "\n",
      "Matrix * matrix product; both produce the same 2 dimensional array\n",
      "[[19 22]\n",
      " [43 50]]\n",
      "[[19 22]\n",
      " [43 50]]\n"
     ]
    }
   ],
   "source": [
    "x = np.array([[1, 2], [3, 4]], dtype=np.float64)\n",
    "y = np.array([[5, 6], [7, 8]], dtype=np.float64)\n",
    "\n",
    "print()\n",
    "print(\"##########################################################\")\n",
    "print()\n",
    "print(\"Elementwise sum; both produce the same array\")\n",
    "print(x + y)\n",
    "print(np.add(x, y))\n",
    "\n",
    "print()\n",
    "print(\"##########################################################\")\n",
    "print()\n",
    "print(\"Elementwise difference; both produce the same array\")\n",
    "print(x - y)\n",
    "print(np.subtract(x, y))\n",
    "\n",
    "print()\n",
    "print(\"##########################################################\")\n",
    "print()\n",
    "print(\"Elementwise product; both produce the same array\")\n",
    "print(x * y)\n",
    "print(np.multiply(x, y))\n",
    "\n",
    "print()\n",
    "print(\"##########################################################\")\n",
    "print()\n",
    "print(\"Elementwise division; both produce the same array\")\n",
    "print(x / y)\n",
    "print(np.divide(x, y))\n",
    "print(\"Floor division (Divide and round down to nearest integer)\")\n",
    "print(x // y)\n",
    "\n",
    "print()\n",
    "print(\"##########################################################\")\n",
    "print()\n",
    "print(\"Elementwise square root; produces the same array\")\n",
    "print(np.sqrt(x))\n",
    "\n",
    "print()\n",
    "print(\"##########################################################\")\n",
    "print()\n",
    "x = np.array([[1, 2], [3, 4]])\n",
    "y = np.array([[5, 6], [7, 8]])\n",
    "v = np.array([9, 10])\n",
    "w = np.array([11, 12])\n",
    "print(\"Inner product of vectors\")\n",
    "print(v.dot(w))\n",
    "print(np.dot(v, w))\n",
    "\n",
    "print()\n",
    "print(\"##########################################################\")\n",
    "print()\n",
    "print(\"Matrix-vector product; both produce the same 1 dimensional array\")\n",
    "print(x.dot(v))\n",
    "print(np.dot(x, v))\n",
    "\n",
    "print()\n",
    "print(\"##########################################################\")\n",
    "print()\n",
    "print(\"Matrix * matrix product; both produce the same 2 dimensional array\")\n",
    "print(x.dot(y))\n",
    "print(np.dot(x, y))"
   ]
  },
  {
   "cell_type": "markdown",
   "metadata": {},
   "source": [
    "## Conditionals and Control Flow\n",
    "\n",
    "Using Booleans, we can control the flow of our program so that in the case where a criteria is `True` the program executes one piece of code and if the criteria is `False` executes a different piece of code.\n",
    "   "
   ]
  },
  {
   "cell_type": "code",
   "execution_count": 15,
   "metadata": {},
   "outputs": [
    {
     "name": "stdout",
     "output_type": "stream",
     "text": [
      "Condition met, now let's evaluate the next if statement...\n",
      "Condition satisfied on second try\n"
     ]
    }
   ],
   "source": [
    "x_bool = True\n",
    "\n",
    "x = 3\n",
    "y = 3\n",
    "\n",
    "if x_bool:\n",
    "    print(\"Condition met, now let's evaluate the next if statement...\")\n",
    "\n",
    "if (x <= 1) & (x == y):\n",
    "    print('Condition satisfied on first try')\n",
    "elif (x <= 5) & (x == y):\n",
    "    print('Condition satisfied on second try')\n",
    "else:\n",
    "    print('Condition not statified')"
   ]
  },
  {
   "cell_type": "markdown",
   "metadata": {},
   "source": [
    "#### Now we will get into loops - first we will start with the _for_ loop\n",
    "For loops allow you to iterate over large sets of data, e.g. a long array of time series data. \n",
    "\n",
    "Example 1"
   ]
  },
  {
   "cell_type": "code",
   "execution_count": 16,
   "metadata": {
    "scrolled": true
   },
   "outputs": [
    {
     "name": "stdout",
     "output_type": "stream",
     "text": [
      "11\n",
      "Length of x_array_iter: 11\n",
      " Iteration 0\n",
      " Iteration 1\n",
      " Iteration 2\n",
      " Iteration 3\n",
      " Iteration 4\n",
      " Iteration 5\n",
      " Iteration 6\n",
      " Iteration 7\n",
      " Iteration 8\n",
      " Iteration 9\n",
      " Iteration 10\n"
     ]
    }
   ],
   "source": [
    "x_array_iter = np.arange(0, len(x_array), 1)\n",
    "print(len(x_array))\n",
    "print('Length of x_array_iter:', len(x_array_iter))\n",
    "\n",
    "#Loop over elements in \n",
    "for i in range(0, len(x_array_iter)):\n",
    "    print(' Iteration', str(i))"
   ]
  },
  {
   "cell_type": "markdown",
   "metadata": {},
   "source": [
    "#### Example 2 - Loops with a conditional"
   ]
  },
  {
   "cell_type": "code",
   "execution_count": 17,
   "metadata": {},
   "outputs": [
    {
     "name": "stdout",
     "output_type": "stream",
     "text": [
      "0th Iteration\n",
      "1st Iteration\n",
      "2nd Iteration\n",
      "3rd Iteration\n",
      "4th Iteration\n",
      "5th Iteration\n",
      "6th Iteration\n",
      "7th Iteration\n",
      "8th Iteration\n"
     ]
    }
   ],
   "source": [
    "for i in range(0, len(x_array_iter)):\n",
    "    if (x_array_iter[i] == 0) or (x_array_iter[i] == 4) or (x_array_iter[i] == 5) or (x_array_iter[i] == 6)\\\n",
    "    or (x_array_iter[i] == 7) or (x_array_iter[i] == 8):\n",
    "        print(str(i) + 'th Iteration')\n",
    "    elif (x_array_iter[i] == 1):\n",
    "        print(str(i) + 'st Iteration')\n",
    "    elif (x_array_iter[i] == 2):\n",
    "        print(str(i) + 'nd Iteration')\n",
    "    elif (x_array_iter[i] == 3):\n",
    "        print(str(i) + 'rd Iteration')"
   ]
  },
  {
   "cell_type": "markdown",
   "metadata": {},
   "source": [
    "**Comments on the above for loop examples:**\n",
    "* Use len() to get the length of the array\n",
    "\n",
    "* Use range() to create an iterator with length of the argument.\n",
    "\n",
    "* For example, x_array_iter is of length 9, so we use range(0, len(x_array_iter)) to begin iterating at index of 0,"
   ]
  },
  {
   "cell_type": "markdown",
   "metadata": {},
   "source": [
    "#### While loops\n",
    "While loops continue to execute until a condition evaluates to `True`. These can interate infinetly if you are not careful. "
   ]
  },
  {
   "cell_type": "code",
   "execution_count": 18,
   "metadata": {},
   "outputs": [
    {
     "name": "stdout",
     "output_type": "stream",
     "text": [
      "0 Iteration\n",
      "1 Iteration\n",
      "2 Iteration\n",
      "3 Iteration\n",
      "4 Iteration\n",
      "5 Iteration\n",
      "6 Iteration\n",
      "7 Iteration\n",
      "8 Iteration\n",
      "9 Iteration\n",
      "10 Iteration\n"
     ]
    }
   ],
   "source": [
    "i = 0\n",
    "\n",
    "while i < len(x_array_iter):\n",
    "    print(str(i) + ' Iteration')\n",
    "    i += 1 #Explicitly increment i so that the loop does not go on forever"
   ]
  },
  {
   "cell_type": "markdown",
   "metadata": {},
   "source": [
    "Similar to the previous example with a for loop, but now we have to explicitly increment `i`"
   ]
  },
  {
   "cell_type": "code",
   "execution_count": 19,
   "metadata": {},
   "outputs": [
    {
     "name": "stdout",
     "output_type": "stream",
     "text": [
      "0th Iteration\n",
      "1st Iteration\n",
      "2nd Iteration\n",
      "3rd Iteration\n",
      "4th Iteration\n",
      "5th Iteration\n",
      "6th Iteration\n",
      "7th Iteration\n",
      "8th Iteration\n"
     ]
    }
   ],
   "source": [
    "i = 0\n",
    "\n",
    "while i < len(x_array_iter):\n",
    "    if (x_array_iter[i] == 0) or (x_array_iter[i] == 4) or (x_array_iter[i] == 5) or (x_array_iter[i] == 6)\\\n",
    "    or (x_array_iter[i] == 7) or (x_array_iter[i] == 8):\n",
    "        print(str(i) + 'th Iteration')\n",
    "    elif (x_array_iter[i] == 1):\n",
    "        print(str(i) + 'st Iteration')\n",
    "    elif (x_array_iter[i] == 2):\n",
    "        print(str(i) + 'nd Iteration')\n",
    "    elif (x_array_iter[i] == 3):\n",
    "        print(str(i) + 'rd Iteration')\n",
    "    i += 1 #Explicitly increment i so that the loop does not go on forever"
   ]
  },
  {
   "cell_type": "markdown",
   "metadata": {},
   "source": [
    "\n",
    "## Functions\n",
    "\n",
    "Often we want to apply the same operation to different types of data. For example we might want to get the mean, compute a linear regression, or apply some other complicated formula.\n",
    "\n",
    "* Functions are used to keep your code organized\n",
    "* Functions facilitate the D.R.Y. principle of software development -- Don't Repeat Yourself"
   ]
  },
  {
   "cell_type": "code",
   "execution_count": 20,
   "metadata": {},
   "outputs": [
    {
     "name": "stdout",
     "output_type": "stream",
     "text": [
      "a is not divisible by b\n",
      "\n",
      "2.0124611797498106\n"
     ]
    }
   ],
   "source": [
    "def a_b_divisibility(a, b=6):\n",
    "    if a % b == 0 : #The percent sign is called the modulo operator\n",
    "        print(\"a is divisible by b\")\n",
    "    else:\n",
    "        print(\"a is not divisible by b\")\n",
    "\n",
    "\n",
    "def compute_x(a, b, c, d):\n",
    "    '''Applies a complicated formula to the supplied parameters.\n",
    "    \n",
    "    param:: a (float)\n",
    "    param:: b (float)\n",
    "    param:: c (float)\n",
    "    param:: d (float)\n",
    "    \n",
    "    Note that I used the triple quotes here to create a 'docstring'\n",
    "    which can be used to communicate the purpose of the function to another user\n",
    "    '''\n",
    "    x = (a**2 * np.sqrt(b) * c) / d\n",
    "    return x\n",
    "\n",
    "# Calling function from above, and giving it a value for unknown parameter 'a' (b is already given a default value of 6)\n",
    "a_b_divisibility(4)\n",
    "print()\n",
    "\n",
    "x = compute_x(3, 5, 2, 20)    # 3, 5, 2, 20 are your function parameters for a, b, c, d, respectively\n",
    "print(x)"
   ]
  },
  {
   "cell_type": "markdown",
   "metadata": {},
   "source": [
    "## Python Native Data Structures\n",
    "#### Lists, tuples, dictionaries, and sets\n",
    "\n",
    "* __Lists:__ Ordered mutable collection of heterogeneous python objects. Could contain a combination of ints, strings, floats, etc which can be modified (mutable).\n",
    "\n",
    "* __Tuples:__ Tuples are the similar to lists, however, tuples cannot be changed once declared (immutable).\n",
    "\n",
    "* __Dictionaries:__ A dictionary stores (key, value) pairs\n",
    "\n",
    "* __Sets:__ A set is an unordered collection of distinct elements"
   ]
  },
  {
   "cell_type": "markdown",
   "metadata": {},
   "source": [
    "### Lists"
   ]
  },
  {
   "cell_type": "code",
   "execution_count": 21,
   "metadata": {},
   "outputs": [
    {
     "name": "stdout",
     "output_type": "stream",
     "text": [
      "[1, 'a', 'string', 3]\n",
      "[1, 'a', 'string', 3, 6]\n",
      "[1, 'a', 'string', 3]\n",
      "a\n",
      "3\n",
      "List Indexing\n",
      "[0, 1, 2, 3, 4]\n",
      "[2, 3]\n",
      "[2, 3, 4]\n",
      "[0, 1]\n",
      "[0, 1, 2, 3, 4]\n",
      "[0, 1, 2, 3]\n",
      "[0, 1, 8, 9, 4]\n"
     ]
    }
   ],
   "source": [
    "L = [1, \"a\" , \"string\" , 1+2] \n",
    "print(L)\n",
    "L.append(6)                     #Add an element to a list\n",
    "print(L)\n",
    "L.pop()                         # Remove and return the last element of the list\n",
    "print(L)\n",
    "print(L[1])\n",
    "print(L[-1])                    # Negative indices count from the end of the list; prints \"2\"\n",
    "\n",
    "print(\"List Indexing\")\n",
    "\n",
    "nums = list(range(5))           # range is a built-in function that creates a list of integers\n",
    "print(nums)\n",
    "print(nums[2:4])                # Get a slice from index 2 to 4 (exclusive)\n",
    "print(nums[2:])                 # Get a slice from index 2 to the end\n",
    "print(nums[:2])                 # Get a slice from the start to index 2 (exclusive)\n",
    "print(nums[:])                  # Get a slice of the whole list\n",
    "print(nums[:-1])                # Slice indices can be negative\n",
    "nums[2:4] = [8, 9]              # Assign a new sublist to a slice\n",
    "print(nums)"
   ]
  },
  {
   "cell_type": "markdown",
   "metadata": {},
   "source": [
    "#### List comprehensions\n",
    "\n",
    "List comprehensions are a convienant and'Pythonic' way to create lists based on specific criteria. They are often seen in production code, so we mention them here"
   ]
  },
  {
   "cell_type": "code",
   "execution_count": 22,
   "metadata": {},
   "outputs": [
    {
     "name": "stdout",
     "output_type": "stream",
     "text": [
      "x**2 is [0, 1, 4, 9, 16]\n",
      "The evens are [0, 2, 4, 6, 8, 10, 12, 14, 16, 18, 20]\n"
     ]
    }
   ],
   "source": [
    "#Simple list comprehension\n",
    "\n",
    "\n",
    "nums = [0, 1, 2, 3, 4]\n",
    "squares = [x ** 2 for x in nums]\n",
    "print('x**2 is', squares)\n",
    "\n",
    "\n",
    "#More complicated example with a conditional. Returns the even integers from an array.\n",
    "integers = np.arange(0,21,1)\n",
    "\n",
    "evens = [val for val in integers if val%2==0]\n",
    "print('The evens are', evens)"
   ]
  },
  {
   "cell_type": "markdown",
   "metadata": {},
   "source": [
    "### Tuples\n",
    "Ordered like lists, but immutable"
   ]
  },
  {
   "cell_type": "code",
   "execution_count": 23,
   "metadata": {},
   "outputs": [
    {
     "name": "stdout",
     "output_type": "stream",
     "text": [
      "(1, 'a', 'string', 3)\n",
      "a\n"
     ]
    },
    {
     "ename": "TypeError",
     "evalue": "'tuple' object does not support item assignment",
     "output_type": "error",
     "traceback": [
      "\u001b[1;31m---------------------------------------------------------------------------\u001b[0m",
      "\u001b[1;31mTypeError\u001b[0m                                 Traceback (most recent call last)",
      "\u001b[1;32mc:\\Users\\hoyou\\OneDrive\\Desktop\\GEO 371T\\Lab 1\\Lab01_Basic_Introduction_to_Python.ipynb Cell 54\u001b[0m line \u001b[0;36m6\n\u001b[0;32m      <a href='vscode-notebook-cell:/c%3A/Users/hoyou/OneDrive/Desktop/GEO%20371T/Lab%201/Lab01_Basic_Introduction_to_Python.ipynb#Y104sZmlsZQ%3D%3D?line=2'>3</a>\u001b[0m \u001b[39mprint\u001b[39m(tup[\u001b[39m1\u001b[39m])\n\u001b[0;32m      <a href='vscode-notebook-cell:/c%3A/Users/hoyou/OneDrive/Desktop/GEO%20371T/Lab%201/Lab01_Basic_Introduction_to_Python.ipynb#Y104sZmlsZQ%3D%3D?line=4'>5</a>\u001b[0m \u001b[39m#Tuples are immutable, the following code will break.\u001b[39;00m\n\u001b[1;32m----> <a href='vscode-notebook-cell:/c%3A/Users/hoyou/OneDrive/Desktop/GEO%20371T/Lab%201/Lab01_Basic_Introduction_to_Python.ipynb#Y104sZmlsZQ%3D%3D?line=5'>6</a>\u001b[0m tup[\u001b[39m3\u001b[39;49m]\u001b[39m=\u001b[39m\u001b[39m5\u001b[39m\n",
      "\u001b[1;31mTypeError\u001b[0m: 'tuple' object does not support item assignment"
     ]
    }
   ],
   "source": [
    "tup = (1, \"a\", \"string\", 1+2) \n",
    "print(tup )\n",
    "print(tup[1])\n",
    "\n",
    "#Tuples are immutable, the following code will break.\n",
    "tup[3]=5"
   ]
  },
  {
   "cell_type": "markdown",
   "metadata": {},
   "source": [
    "### Dictionaries\n",
    "Associate a 'key' to a 'value' in pairs"
   ]
  },
  {
   "cell_type": "code",
   "execution_count": null,
   "metadata": {},
   "outputs": [
    {
     "name": "stdout",
     "output_type": "stream",
     "text": [
      "cute\n",
      "True\n",
      "wet\n",
      "\n",
      "Access dictionary keys and values\n",
      "---------------------------------\n",
      "A person has 2 legs\n",
      "A cat has 4 legs\n",
      "A spider has 8 legs\n",
      "\n",
      "Dictionary comprehensions\n",
      "\n",
      "{0: 0, 2: 4, 4: 16}\n"
     ]
    }
   ],
   "source": [
    "d = {'cat': 'cute', 'dog': 'furry'} #Keys are cat, dog. Values are cute, furry\n",
    "print(d['cat'])\n",
    "print('cat' in d)               # Check if a dictionary has a given key\n",
    "d['fish'] = 'wet'               # Set an entry in a dictionary\n",
    "print(d['fish'])\n",
    "\n",
    "del d['fish']                   # Remove an element from a dictionary\n",
    "\n",
    "print()\n",
    "print(\"Access dictionary keys and values\")\n",
    "print(\"---------------------------------\")\n",
    "\n",
    "d = {'person': 2, 'cat': 4, 'spider': 8}\n",
    "for animal, legs in d.items():\n",
    "    print('A %s has %d legs' % (animal, legs))\n",
    "\n",
    "print()\n",
    "print(\"Dictionary comprehensions\")\n",
    "print()\n",
    "\n",
    "nums = [0, 1, 2, 3, 4]\n",
    "even_num_to_square = {x: x ** 2 for x in nums if x % 2 == 0}\n",
    "print(even_num_to_square)\n"
   ]
  },
  {
   "cell_type": "markdown",
   "metadata": {},
   "source": [
    "### Sets \n",
    "Unordered collections of unique elements"
   ]
  },
  {
   "cell_type": "code",
   "execution_count": null,
   "metadata": {},
   "outputs": [
    {
     "name": "stdout",
     "output_type": "stream",
     "text": [
      "True\n",
      "False\n",
      "True\n",
      "3\n",
      "3\n",
      "2\n"
     ]
    }
   ],
   "source": [
    "animals = {'cat', 'dog'}\n",
    "print('cat' in animals)         # Check if an element is in a set\n",
    "print('fish' in animals)\n",
    "\n",
    "animals.add('fish')             # Add an element to a set\n",
    "print('fish' in animals)\n",
    "\n",
    "print(len(animals))             # Number of elements in a set\n",
    "animals.add('cat')              # Adding an element that is already in the set does nothing\n",
    "print(len(animals))\n",
    "\n",
    "animals.remove('cat')           # Remove an element from a set\n",
    "print(len(animals))"
   ]
  },
  {
   "cell_type": "markdown",
   "metadata": {},
   "source": [
    "## Classes\n",
    "* Classes are the basic structure of *Objected Oriented Programming*\n",
    "* Object oriented programming is a way to encapsulate data into independant *objects*\n",
    "* Large codebases use OOP to keep code organized, robust, and agile (easily modified to meet new customer demands e.g.)\n",
    "\n",
    "For example, you might define a class `Car` which is an abstraction of all the different possible varieties of cars.\n",
    "\n",
    "Each car shares several *attributes* with other cars such as paint color, transmission type, number of doors, engine type, etc.\n",
    "\n",
    "A car can perform many different tasks, (in OOP called methods), such as starting, accelerating, braking, turning, etc.\n",
    "\n",
    "There are many different types of cars, so it is sensible to create a new *instance* of the class for each car. For example one instance of the class `Car` could be\n",
    "\n",
    "`ferarri = Car(color=red, transmission=manual, engine=v8)`\n",
    "\n",
    "Which has the method\n",
    "\n",
    "`ferrari.accelerate()`\n",
    "\n",
    "Another example could be\n",
    "\n",
    "`Prius = Car(color='red', transmission='automatic', engine='hybrid')`"
   ]
  },
  {
   "cell_type": "code",
   "execution_count": null,
   "metadata": {},
   "outputs": [],
   "source": [
    "class Car:\n",
    "    \n",
    "    wheels = 4 #A global parameter which will apply to all instances of the class car.\n",
    "    \n",
    "    def __init__(self, color, transmission, engine, current_velocity=[0,0,0]):\n",
    "        '''\n",
    "        The funtion __init__ initializes the class and its instance attributes. The argument self indicates that the\n",
    "        attributes belong only to a single instance of the class.\n",
    "        '''\n",
    "        self.color=color\n",
    "        self.transmission=transmission\n",
    "        self.engine=engine\n",
    "        self.current_velocity=current_velocity\n",
    "        \n",
    "    def accelerate(self):\n",
    "        '''\n",
    "        This is an overly simplified example which increase the velocity by one in the x direction. \n",
    "        Note that the function doesn't return anything (in c syntax it is a void function) it just updates \n",
    "        the value of an attribute. This is a common practice in OOP.\n",
    "        Again, self indicates that this method belongs to a particular instance of the class (if our Ferrari\n",
    "        accelerates, we don't want our Porsche to accelerate too).\n",
    "        '''\n",
    "        self.current_velocity[0]+=1\n",
    "        print('Current velocity is: ', self.current_velocity)\n",
    "            "
   ]
  },
  {
   "cell_type": "code",
   "execution_count": null,
   "metadata": {},
   "outputs": [
    {
     "name": "stdout",
     "output_type": "stream",
     "text": [
      "The ferarri has 4 wheels\n",
      "The ferarri has a v8 engine\n",
      "Current velocity is:  [1, 0, 0]\n"
     ]
    }
   ],
   "source": [
    "#Instantiate a class Car\n",
    "ferarri = Car(color='red', transmission='manual', engine='v8')\n",
    "\n",
    "print('The ferarri has {} wheels'.format(ferarri.wheels)) #access the global attribute\n",
    "print('The ferarri has a {} engine'.format(ferarri.engine)) #access the instance attribute\n",
    "ferarri.accelerate() #call the accelerate method which updates the velocity attribute."
   ]
  },
  {
   "cell_type": "markdown",
   "metadata": {},
   "source": [
    "## Libraries or Modules\n",
    "We've mentioned and loaded a libary, namely *NumPy*, but we never mentioned what a library is. In Python, libraries are called modules, but the terms are often used interchangebly without coinfusion.\n",
    "\n",
    "A library (module) is a collection of code that is written for some routine computing purpose.  A library typically abstracts details of implementation so that you can focus on the task at hand. Let's load one more library that is useful for machine learning called and *matplotlib*. It is used for plotting figures. Later we will use another library called *scipy* which implements scientific computation."
   ]
  },
  {
   "cell_type": "code",
   "execution_count": null,
   "metadata": {},
   "outputs": [
    {
     "name": "stderr",
     "output_type": "stream",
     "text": [
      "UsageError: unrecognized arguments: #Outputs plots in jupyter notebook inline\n"
     ]
    }
   ],
   "source": [
    "import matplotlib.pyplot as plt\n",
    "%matplotlib inline #Outputs plots in jupyter notebook inline"
   ]
  },
  {
   "cell_type": "markdown",
   "metadata": {},
   "source": [
    "## Loading Data\n",
    "\n",
    "Before plotting our data, we need to load it and clean it. There are many ways to load data in python including a native file i/o system. Here we will use numpy to load into arrays."
   ]
  },
  {
   "cell_type": "code",
   "execution_count": null,
   "metadata": {},
   "outputs": [
    {
     "name": "stdout",
     "output_type": "stream",
     "text": [
      "[ 0.        0.333333  0.666667  1.        1.333333  1.666667  2.\n",
      "  2.333333  2.666667  3.        3.333333  3.666667  4.        4.333333\n",
      "  4.666667  5.        5.333333  5.666667  6.        6.333333  6.666667\n",
      "  7.        7.333333  7.666667  8.        8.333333  8.666667  9.\n",
      "  9.333333  9.666667 10.      ]\n",
      "\n",
      "\n",
      "[1.785002 1.709786 1.544405 2.110987 1.891046 2.222348 2.449409 2.590088\n",
      " 2.798712      nan 3.113018 3.676901 3.881787 3.43069  3.489369 4.094792\n",
      " 4.398147 3.953393 4.980095 4.304665 4.711533 4.584649 4.897964 5.530772\n",
      " 5.374816 5.431763 5.377225 6.266101 6.61915  6.156268 6.050614]\n"
     ]
    }
   ],
   "source": [
    "import numpy as np\n",
    "#Load the data, note that the results are unpacked into x and y values\n",
    "x, y = np.genfromtxt('data_lab1.txt', dtype = float, unpack = True) #Edit to the correct path to your data!\n",
    "\n",
    "#Look at the arrays. Printing to the notebook output works for small datasets, but is not practical for large datasets\n",
    "print(x)\n",
    "print('\\n')\n",
    "print(y)"
   ]
  },
  {
   "cell_type": "markdown",
   "metadata": {},
   "source": [
    "#### Cleaning Data\n",
    "\n",
    "Notice that there is a missing number in the y column! Let's find out where that is and replace it by linear interpolation."
   ]
  },
  {
   "cell_type": "code",
   "execution_count": null,
   "metadata": {},
   "outputs": [
    {
     "name": "stdout",
     "output_type": "stream",
     "text": [
      "[False False False False False False False False False  True False False\n",
      " False False False False False False False False False False False False\n",
      " False False False False False False False]\n"
     ]
    }
   ],
   "source": [
    "#First, let's figure out where the nan is!\n",
    "\n",
    "#We can use np.isnan. This outputs an array of booleans. Notice that one element is True corresponding to the nan\n",
    "#value\n",
    "\n",
    "print(np.isnan(y))"
   ]
  },
  {
   "cell_type": "code",
   "execution_count": null,
   "metadata": {},
   "outputs": [
    {
     "name": "stdout",
     "output_type": "stream",
     "text": [
      "The index is: [9]\n"
     ]
    }
   ],
   "source": [
    "#We need to figure out the index of the nan so that we can replace it.\n",
    "#We can use np.argwhere for this purpose\n",
    "\n",
    "idx = np.argwhere(np.isnan(y))[0]\n",
    "print('The index is: {}'.format(idx))"
   ]
  },
  {
   "cell_type": "code",
   "execution_count": null,
   "metadata": {},
   "outputs": [
    {
     "name": "stdout",
     "output_type": "stream",
     "text": [
      "[1.785002 1.709786 1.544405 2.110987 1.891046 2.222348 2.449409 2.590088\n",
      " 2.798712 2.955865 3.113018 3.676901 3.881787 3.43069  3.489369 4.094792\n",
      " 4.398147 3.953393 4.980095 4.304665 4.711533 4.584649 4.897964 5.530772\n",
      " 5.374816 5.431763 5.377225 6.266101 6.61915  6.156268 6.050614]\n"
     ]
    }
   ],
   "source": [
    "#Let's replace the nan with the average of the number behind and ahead in the array\n",
    "replace = (y[10]+y[8])/2\n",
    "\n",
    "#Change the 9th element to the replacement\n",
    "y[9] = replace\n",
    "\n",
    "print(y)"
   ]
  },
  {
   "cell_type": "markdown",
   "metadata": {},
   "source": [
    "#### Plotting Data"
   ]
  },
  {
   "cell_type": "markdown",
   "metadata": {},
   "source": [
    "A quick way to plot is to use pyplot directly. For example:"
   ]
  },
  {
   "cell_type": "code",
   "execution_count": null,
   "metadata": {},
   "outputs": [
    {
     "data": {
      "text/plain": [
       "[<matplotlib.lines.Line2D at 0x25151216490>]"
      ]
     },
     "execution_count": 56,
     "metadata": {},
     "output_type": "execute_result"
    },
    {
     "data": {
      "image/png": "[encoded data removed]",
      "text/plain": [
       "<Figure size 640x480 with 1 Axes>"
      ]
     },
     "metadata": {},
     "output_type": "display_data"
    }
   ],
   "source": [
    "plt.plot(x,y,'r') #'k' indicates the line is the color black."
   ]
  },
  {
   "cell_type": "markdown",
   "metadata": {},
   "source": [
    "For more control, I recommend using subplots as shown below. Also we don't really know the relationship between the data points, so it is better to use a scatter plot. We'll do just that. "
   ]
  },
  {
   "cell_type": "code",
   "execution_count": null,
   "metadata": {},
   "outputs": [
    {
     "data": {
      "text/plain": [
       "Text(0, 0.5, 'y')"
      ]
     },
     "execution_count": 59,
     "metadata": {},
     "output_type": "execute_result"
    },
    {
     "data": {
      "image/png": "[encoded data removed]",
      "text/plain": [
       "<Figure size 1200x600 with 2 Axes>"
      ]
     },
     "metadata": {},
     "output_type": "display_data"
    }
   ],
   "source": [
    "#Create a figure with 2 subplots which are stored in axs\n",
    "fig, axs = plt.subplots(nrows = 1, ncols = 2, figsize = (12,6))\n",
    "\n",
    "#Notice that we can manipulate the color and marker by passing arguments to scatter\n",
    "\n",
    "#First subplot is modified by calling methods on axs[0]\n",
    "axs[0].scatter(x, y, marker = '*', color = 'k')\n",
    "axs[0].set_title('Scatter Plot Black Stars')\n",
    "axs[0].set_xlabel('x')\n",
    "axs[0].set_ylabel('y')\n",
    "\n",
    "#Second subplot is modified by calling methods on axs[1]\n",
    "axs[1].scatter(x, y, marker = '^', color = 'r')\n",
    "axs[1].set_title('Scatter Plot Red Triangles')\n",
    "axs[1].set_xlabel('x')\n",
    "axs[1].set_ylabel('y')"
   ]
  },
  {
   "cell_type": "markdown",
   "metadata": {},
   "source": [
    "#### Data Fitting\n",
    "Let's fit a line to the scattered data and plot it. We'll use a third library scipy to handle the linear regression."
   ]
  },
  {
   "cell_type": "code",
   "execution_count": null,
   "metadata": {},
   "outputs": [
    {
     "data": {
      "text/plain": [
       "Text(0.5, 1.0, 'Slope: 0.49, Intercept 1.51')"
      ]
     },
     "execution_count": 60,
     "metadata": {},
     "output_type": "execute_result"
    },
    {
     "data": {
      "image/png": "[encoded data removed]",
      "text/plain": [
       "<Figure size 640x480 with 1 Axes>"
      ]
     },
     "metadata": {},
     "output_type": "display_data"
    }
   ],
   "source": [
    "#In the homework we'll use from scipy.optimize import curve_fit\n",
    "from scipy.stats import linregress\n",
    "\n",
    "#Fit a line to the data\n",
    "slope, intercept, r_value, p_value, std_err = linregress(x,y)\n",
    "\n",
    "#Create a figure instance and an axis for plotting\n",
    "fig, ax = plt.subplots()\n",
    "\n",
    "#Plot the line and scatter the data\n",
    "ax.plot(x, slope*x+intercept, color = 'r', label = 'Linear Regression')\n",
    "ax.scatter(x, y, color = 'k', label = 'Data')\n",
    "\n",
    "#Add a legend\n",
    "ax.legend()\n",
    "\n",
    "#Label the axes\n",
    "ax.set_xlabel('x')\n",
    "ax.set_ylabel('y')\n",
    "ax.set_title('Slope: {:.2f}, Intercept {:.2f}'.format(slope, intercept))"
   ]
  },
  {
   "cell_type": "markdown",
   "metadata": {},
   "source": [
    "#### Other useful libraries"
   ]
  },
  {
   "cell_type": "code",
   "execution_count": null,
   "metadata": {},
   "outputs": [
    {
     "name": "stdout",
     "output_type": "stream",
     "text": [
      "Current directory is /disk/student/adhara/Fall2023/course/Lab 1\n",
      "Files in cwd with extension .ipynb are: ['./Lab01_Basic_Introduction_to_Python.ipynb']\n",
      "4! is 24\n"
     ]
    }
   ],
   "source": [
    "import os #operating system interface\n",
    "print('Current directory is', os.getcwd()) #get current working directory\n",
    "\n",
    "import glob #useful for unix pathlike expansion\n",
    "print('Files in cwd with extension .ipynb are:', glob.glob('./*.ipynb'))\n",
    "\n",
    "import math #extended mathmatical operations\n",
    "print('4! is',math.factorial(4)) #Deprecated in python 3.9\n",
    "\n",
    "import sklearn #Machine learning library (we will talk about/use later)."
   ]
  },
  {
   "cell_type": "markdown",
   "metadata": {},
   "source": [
    "#### Summary of Jupyter Notebook Workflow\n",
    "In this workflow we went over the basics of coding in Python and how to use Jupyter Notebook effectively. You should now be comfortable with loading data, cleaning up data, looking at data by plotting, and doing basic data processing."
   ]
  },
  {
   "cell_type": "code",
   "execution_count": null,
   "metadata": {},
   "outputs": [],
   "source": []
  }
 ],
 "metadata": {
  "kernelspec": {
   "display_name": "Python 3 (ipykernel)",
   "language": "python",
   "name": "python3"
  },
  "language_info": {
   "codemirror_mode": {
    "name": "ipython",
    "version": 3
   },
   "file_extension": ".py",
   "mimetype": "text/x-python",
   "name": "python",
   "nbconvert_exporter": "python",
   "pygments_lexer": "ipython3",
   "version": "3.12.0"
  }
 },
 "nbformat": 4,
 "nbformat_minor": 2
}
