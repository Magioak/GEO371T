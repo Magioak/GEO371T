{
  "cells": [
    {
      "cell_type": "markdown",
      "metadata": {
        "id": "A0y0-SWmcrMS"
      },
      "source": [
        "# Keras for Beginners: Implementing a Convolutional Neural Network\n",
        "A beginner-friendly guide on using Keras to implement a simple Convolutional Neural Network (CNN) in Python.\n",
        "\n",
        "# mnist dataset (handwriting)\n"
      ]
    },
    {
      "cell_type": "code",
      "execution_count": null,
      "metadata": {
        "id": "8vnjWbHTcrMU"
      },
      "outputs": [],
      "source": [
        "# The full CNN code!\n",
        "####################\n",
        "# import libraries\n",
        "import numpy as np\n",
        "from keras. datasets import mnist\n",
        "import tensorflow as tf\n",
        "from tensorflow.keras.models import Sequential\n",
        "from tensorflow.keras.layers import Conv2D, MaxPooling2D, Dense, Flatten\n",
        "from tensorflow.keras.utils import to_categorical"
      ]
    },
    {
      "cell_type": "code",
      "execution_count": null,
      "metadata": {
        "id": "YqK-bvzocrMU"
      },
      "outputs": [],
      "source": [
        "# load data\n",
        "(train_images, train_labels), (test_images,test_labels) = mnist.load_data()"
      ]
    },
    {
      "cell_type": "code",
      "execution_count": null,
      "metadata": {
        "id": "lUU67do7crMU"
      },
      "outputs": [],
      "source": [
        "# Normalize the images.\n",
        "train_images = (train_images / 255) - 0.5\n",
        "test_images = (test_images / 255) - 0.5\n",
        "print(train_images.shape)\n",
        "print(test_images.shape)\n",
        "\n",
        "# Reshape the images.\n",
        "train_images = np.expand_dims(train_images, axis=3)\n",
        "test_images = np.expand_dims(test_images, axis=3)\n",
        "print(train_images.shape)"
      ]
    },
    {
      "cell_type": "code",
      "execution_count": null,
      "metadata": {
        "id": "00YaHIylcrMV"
      },
      "outputs": [],
      "source": [
        "num_filters = 8\n",
        "filter_size = 3\n",
        "pool_size = 2"
      ]
    },
    {
      "cell_type": "markdown",
      "source": [
        "### Exercise 1 - Build model\n",
        "Build a CNN model with\n",
        "* one convolutional layer with `8` filters and kernal size `(3, 3)`\n",
        "* one max pooling layer with pooling size `(2, 2)`\n",
        "* one flatten layer\n",
        "* one dense layer with `softmax` activation"
      ],
      "metadata": {
        "id": "28R2alOGuhbx"
      }
    },
    {
      "cell_type": "code",
      "execution_count": null,
      "metadata": {
        "id": "hpY9GXpQcrMV"
      },
      "outputs": [],
      "source": [
        "# Build the model."
      ]
    },
    {
      "cell_type": "markdown",
      "source": [
        "### Exercise 2 - Plot model\n",
        "* Compile your model with `adam` optimizer, `categorical_crossentropy` loss function and `accuracy` metric.\n",
        "* Print summary and plot your model."
      ],
      "metadata": {
        "id": "TviVghyXwW-c"
      }
    },
    {
      "cell_type": "code",
      "execution_count": null,
      "metadata": {
        "id": "hhfpgWXRcrMV"
      },
      "outputs": [],
      "source": [
        "# Compile the model.\n",
        "\n",
        "# Plot model"
      ]
    },
    {
      "cell_type": "markdown",
      "source": [
        "### Exercise 3 - Train your model\n",
        "Codes already provided. Run for 30 epochs."
      ],
      "metadata": {
        "id": "A2c4uh4IxeZ4"
      }
    },
    {
      "cell_type": "code",
      "execution_count": null,
      "metadata": {
        "id": "3lKSMeuIcrMW"
      },
      "outputs": [],
      "source": [
        "hist=model.fit(\n",
        "  train_images,\n",
        "  to_categorical(train_labels),\n",
        "  epochs=30,\n",
        "  validation_data=(test_images, to_categorical(test_labels)),\n",
        ")"
      ]
    },
    {
      "cell_type": "markdown",
      "source": [
        "### Exercise 4 - Validate your model\n",
        "\n",
        "* Validation on test data.\n",
        "* Plot training/validation accuracy/loss."
      ],
      "metadata": {
        "id": "BuvmUP7fxtoY"
      }
    },
    {
      "cell_type": "code",
      "execution_count": null,
      "metadata": {
        "id": "xkdkMjXCcrMW"
      },
      "outputs": [],
      "source": [
        "# Simply predict on the first 5 test images.\n",
        "predictions = model.predict(test_images[:5])\n",
        "\n",
        "# Print our model's predictions.\n",
        "print(np.argmax(predictions, axis=1)) # [7, 2, 1, 0, 4]\n",
        "\n",
        "# Check our predictions against the ground truths.\n",
        "print(test_labels[:5]) # [7, 2, 1, 0, 4]\n",
        "\n",
        "# Now plot the training/validation accuracy/loss.\n"
      ]
    }
  ],
  "metadata": {
    "kernelspec": {
      "display_name": "Python 3",
      "language": "python",
      "name": "python3"
    },
    "language_info": {
      "codemirror_mode": {
        "name": "ipython",
        "version": 3
      },
      "file_extension": ".py",
      "mimetype": "text/x-python",
      "name": "python",
      "nbconvert_exporter": "python",
      "pygments_lexer": "ipython3",
      "version": "3.7.4"
    },
    "colab": {
      "provenance": []
    }
  },
  "nbformat": 4,
  "nbformat_minor": 0
}