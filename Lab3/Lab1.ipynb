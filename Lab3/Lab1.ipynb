{
 "cells": [
  {
   "cell_type": "code",
   "execution_count": 1,
   "metadata": {},
   "outputs": [
    {
     "name": "stdout",
     "output_type": "stream",
     "text": [
      "(a)\n",
      "\n",
      " BA \n",
      " [[-2  6 -7]\n",
      " [ 8  2 17]] \n",
      "\n",
      "\n"
     ]
    }
   ],
   "source": [
    "import numpy as np\n",
    "from IPython.display import display, Math\n",
    "\n",
    "\n",
    "B = np.array([[1,2,-3],[3,4,-1]])\n",
    "A = np.array([[2,-5,1],[1,4,5],[2,-1,6]])\n",
    "y = np.array([2,-4,1])\n",
    "z = np.array([-15,-8,-22])\n",
    "x = 'AB'\n",
    "k = 'T'\n",
    "print('(a)\\n\\n BA \\n',B@A ,'\\n\\n')\n",
    "\n"
   ]
  },
  {
   "cell_type": "code",
   "execution_count": 2,
   "metadata": {},
   "outputs": [
    {
     "name": "stdout",
     "output_type": "stream",
     "text": [
      "(b)\n"
     ]
    },
    {
     "data": {
      "text/latex": [
       "$\\displaystyle AB^{T}$"
      ],
      "text/plain": [
       "<IPython.core.display.Math object>"
      ]
     },
     "metadata": {},
     "output_type": "display_data"
    },
    {
     "name": "stdout",
     "output_type": "stream",
     "text": [
      "[[-11 -15]\n",
      " [ -6  14]\n",
      " [-18  -4]] \n",
      "\n",
      "\n"
     ]
    }
   ],
   "source": [
    "print('(b)')\n",
    "display(Math(x + '^{'+ k +'}'))\n",
    "print(A@B.T,'\\n\\n')"
   ]
  },
  {
   "cell_type": "code",
   "execution_count": 3,
   "metadata": {},
   "outputs": [
    {
     "name": "stdout",
     "output_type": "stream",
     "text": [
      "(c)\n",
      "\n",
      " Ay\n",
      " [25 -9 14]\n"
     ]
    }
   ],
   "source": [
    "print('(c)\\n\\n Ay\\n', A@y)"
   ]
  },
  {
   "cell_type": "code",
   "execution_count": 4,
   "metadata": {},
   "outputs": [
    {
     "name": "stdout",
     "output_type": "stream",
     "text": [
      "(D)\n",
      "\n",
      " y^Tz \n",
      " -20\n"
     ]
    }
   ],
   "source": [
    "print('(D)\\n\\n y^Tz \\n',np.inner(y,z))\n"
   ]
  },
  {
   "cell_type": "code",
   "execution_count": 5,
   "metadata": {},
   "outputs": [
    {
     "name": "stdout",
     "output_type": "stream",
     "text": [
      "(e)\n",
      "\n",
      "yz^T\n",
      " [[-30 -16 -44]\n",
      " [ 60  32  88]\n",
      " [-15  -8 -22]]\n"
     ]
    }
   ],
   "source": [
    "print('(e)\\n\\nyz^T\\n', np.outer(y,z))\n",
    "\n"
   ]
  },
  {
   "cell_type": "code",
   "execution_count": 6,
   "metadata": {},
   "outputs": [
    {
     "name": "stdout",
     "output_type": "stream",
     "text": [
      "(a)\n",
      "\n",
      " A^-1\n",
      " [[-0.          0.33333333]\n",
      " [ 0.5        -0.16666667]]\n",
      "\n",
      "AA^-1\n",
      " [[1. 0.]\n",
      " [0. 1.]]\n"
     ]
    }
   ],
   "source": [
    "import scipy.linalg as la \n",
    "from scipy.linalg import solve\n",
    "\n",
    "#Problem 2\n",
    "\n",
    "A = np.array([[1,2],[3,0]])\n",
    "b = np.array([4,6])\n",
    "\n",
    "print('(a)\\n\\n A^-1\\n', la.inv(A))\n",
    "print('\\nAA^-1\\n',A@la.inv(A))"
   ]
  },
  {
   "cell_type": "code",
   "execution_count": 7,
   "metadata": {},
   "outputs": [
    {
     "name": "stdout",
     "output_type": "stream",
     "text": [
      "x\n",
      " [2. 1.]\n",
      "\n",
      "\n",
      "proving Ax = b by Ax -b = 0\n",
      " [0. 0.]\n"
     ]
    }
   ],
   "source": [
    "x = solve(A,b)\n",
    "print ('x\\n',x)\n",
    "print('\\n\\nproving Ax = b by Ax -b = 0\\n',np.dot(A,x)-b)"
   ]
  },
  {
   "cell_type": "code",
   "execution_count": 8,
   "metadata": {},
   "outputs": [
    {
     "data": {
      "image/png": "[encoded data removed]",
      "text/plain": [
       "<Figure size 640x480 with 1 Axes>"
      ]
     },
     "metadata": {},
     "output_type": "display_data"
    },
    {
     "name": "stdout",
     "output_type": "stream",
     "text": [
      "Red    = Ax\n",
      "Green  = Bx\n",
      "Black  = Cx\n",
      "Yellow = Dx\n"
     ]
    }
   ],
   "source": [
    "import matplotlib.pyplot as plt\n",
    "\n",
    "\n",
    "#Problem 3\n",
    "A = np.array([[2,0],[0,2]])\n",
    "B = np.array([[-2,0],[0,2]])\n",
    "C = np.array([[0,0],[0,1]])\n",
    "D = np.array([[1,2],[0,1]])\n",
    "\n",
    "x = np.array([2,2])\n",
    "\n",
    "a = A@x\n",
    "b = B@x\n",
    "c = C@x\n",
    "d = D@x\n",
    "\n",
    "fig, ax = plt.subplots()\n",
    "\n",
    "ax.quiver(0, 0, x[0], x[1], angles='xy', scale_units='xy', scale=1, color='b')\n",
    "ax.quiver(0, 0, a[0], a[1], angles='xy', scale_units='xy', scale=1, color='r')\n",
    "ax.quiver(0, 0, b[0], b[1], angles='xy', scale_units='xy', scale=1, color='g')\n",
    "ax.quiver(0, 0, c[0], c[1], angles='xy', scale_units='xy', scale=1, color='k')\n",
    "ax.quiver(0, 0, d[0], d[1], angles='xy', scale_units='xy', scale=1, color='y')\n",
    "\n",
    "ax.set_xlim([-8, 8])\n",
    "ax.set_ylim([-8, 8])\n",
    "\n",
    "plt.grid()\n",
    "plt.show()\n",
    "\n",
    "print('Red    = Ax\\nGreen  = Bx\\nBlack  = Cx\\nYellow = Dx')\n",
    "\n"
   ]
  }
 ],
 "metadata": {
  "kernelspec": {
   "display_name": "Python 3",
   "language": "python",
   "name": "python3"
  },
  "language_info": {
   "codemirror_mode": {
    "name": "ipython",
    "version": 3
   },
   "file_extension": ".py",
   "mimetype": "text/x-python",
   "name": "python",
   "nbconvert_exporter": "python",
   "pygments_lexer": "ipython3",
   "version": "3.11.5"
  },
  "orig_nbformat": 4
 },
 "nbformat": 4,
 "nbformat_minor": 2
}
